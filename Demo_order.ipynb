{
 "cells": [
  {
   "cell_type": "code",
   "execution_count": 1,
   "metadata": {},
   "outputs": [],
   "source": [
    "import requests\n",
    "from requests_oauthlib import OAuth2Session\n",
    "from selenium import webdriver\n",
    "from selenium.webdriver.common.keys import Keys\n",
    "from selenium.webdriver.support.ui import WebDriverWait\n",
    "from selenium.webdriver.support import expected_conditions as EC\n",
    "from selenium.webdriver.common.by import By\n",
    "from selenium.common.exceptions import TimeoutException\n",
    "import json\n",
    "import os\n",
    "import sys\n",
    "from requests_oauthlib import OAuth2Session\n",
    "from alice_blue import *\n",
    "import datetime \n",
    "import time\n",
    "import pandas as pd"
   ]
  },
  {
   "cell_type": "code",
   "execution_count": 2,
   "metadata": {},
   "outputs": [],
   "source": [
    "os.environ['OAUTHLIB_INSECURE_TRANSPORT'] = '1'\n",
    "username = 'AB086867'\n",
    "password = 'chicu@24428'\n",
    "access_token = 'c3oDz1bVz72bGUIN-cUngmV23ko0q28h9xU1vhbZCUI.teS6vgB7Dl_AiAkky21wtKrebe40o7CHpJSiNy7Dbgw'\n",
    "alice = AliceBlue(username=username, password=password, access_token=access_token, master_contracts_to_download=['NSE','NFO','MCX'])"
   ]
  },
  {
   "cell_type": "code",
   "execution_count": 3,
   "metadata": {},
   "outputs": [],
   "source": [
    "#print(alice.get_profile()) # get profile"
   ]
  },
  {
   "cell_type": "code",
   "execution_count": 4,
   "metadata": {},
   "outputs": [],
   "source": [
    "oid_sl = alice.place_order(transaction_type = TransactionType.Buy,\n",
    "                                         instrument = alice.get_instrument_by_symbol('NSE', 'RELIANCE'),\n",
    "                                         quantity = 1,\n",
    "                                         order_type = OrderType.StopLossMarket,\n",
    "                                         product_type = ProductType.Intraday,\n",
    "                                         price = 0.0,\n",
    "                                         trigger_price = float(2000),\n",
    "                                         stop_loss = None,\n",
    "                                         square_off = None,\n",
    "                                         trailing_sl = None,\n",
    "                                         is_amo = False)\n",
    "                "
   ]
  }
 ],
 "metadata": {
  "kernelspec": {
   "display_name": "Python 3",
   "language": "python",
   "name": "python3"
  },
  "language_info": {
   "codemirror_mode": {
    "name": "ipython",
    "version": 3
   },
   "file_extension": ".py",
   "mimetype": "text/x-python",
   "name": "python",
   "nbconvert_exporter": "python",
   "pygments_lexer": "ipython3",
   "version": "3.6.9"
  }
 },
 "nbformat": 4,
 "nbformat_minor": 4
}
