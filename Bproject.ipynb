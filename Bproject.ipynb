{
 "cells": [
  {
   "cell_type": "code",
   "execution_count": 1,
   "metadata": {},
   "outputs": [],
   "source": [
    "import requests\n",
    "from requests_oauthlib import OAuth2Session\n",
    "from selenium import webdriver\n",
    "from selenium.webdriver.common.keys import Keys\n",
    "from selenium.webdriver.support.ui import WebDriverWait\n",
    "from selenium.webdriver.support import expected_conditions as EC\n",
    "from selenium.webdriver.common.by import By\n",
    "from selenium.common.exceptions import TimeoutException\n",
    "import json\n",
    "import os\n",
    "import sys\n",
    "from requests_oauthlib import OAuth2Session\n",
    "from alice_blue import *\n",
    "import datetime\n",
    "import time\n",
    "import pandas as pd"
   ]
  },
  {
   "cell_type": "code",
   "execution_count": 2,
   "metadata": {},
   "outputs": [],
   "source": [
    "os.environ['OAUTHLIB_INSECURE_TRANSPORT'] = '1'\n",
    "username = 'AB086867'\n",
    "password = 'chicu@24428'\n",
    "access_token = 'gv5e9PHMQ-hxEbymeBKgdW4D7VbNb4PtLH8LeyNFz9o.9zgNviCbskapwDtcn7wCekjy0tT_1_OFwdEk9uLCyzM'\n",
    "alice = AliceBlue(username=username, password=password, access_token=access_token, master_contracts_to_download=['NSE','NFO','MCX'])"
   ]
  },
  {
   "cell_type": "code",
   "execution_count": 3,
   "metadata": {},
   "outputs": [],
   "source": [
    "symbols = ['GOLD AUG FUT','SILVERM AUG FUT','COPPER AUG FUT']\n",
    "\n",
    "price_15 = dict.fromkeys(symbols,0) # Creating Dictionary to store values at 9:15\n",
    "price_30 = dict.fromkeys(symbols,list()) # Creating Dictionary to store values between 9:15 to 9:30"
   ]
  },
  {
   "cell_type": "code",
   "execution_count": 4,
   "metadata": {},
   "outputs": [
    {
     "name": "stdout",
     "output_type": "stream",
     "text": [
      "11:30:05.804328\n"
     ]
    }
   ],
   "source": [
    "print(datetime.datetime.now().time())"
   ]
  },
  {
   "cell_type": "code",
   "execution_count": 5,
   "metadata": {},
   "outputs": [],
   "source": [
    "socket_opened = False\n",
    "def event_handler_quote_update(message):\n",
    "\n",
    "    if datetime.datetime.now().time() <= datetime.time(9,15):\n",
    "        \n",
    "        symbolName = message['instrument'].symbol\n",
    "        ltp = message['ltp']\n",
    "\n",
    "            price_15[symbolName]=ltp # value at 9:15\n",
    "\n",
    "\n",
    "    if datetime.datetime.now().time() > datetime.time(9,15):\n",
    "        if datetime.datetime.now().time() <= datetime.time(9,30):\n",
    "\n",
    "            symbolName = message['instrument'].symbol\n",
    "            ltp = message['ltp']\n",
    "            \n",
    "            price_30[symbolName].append(ltp) # Appending values between 9:15 to 9:30\n",
    "            \n",
    "\n",
    "\n",
    "def open_callback():\n",
    "    global socket_opened\n",
    "    socket_opened = True\n",
    "\n",
    "alice.start_websocket(subscribe_callback=event_handler_quote_update,\n",
    "                      socket_open_callback=open_callback,\n",
    "                      run_in_background=True)\n",
    "\n",
    "\n",
    "\n",
    "alice.subscribe([alice.get_instrument_by_symbol('MCX', name) for name in symbols],LiveFeedType.MARKET_DATA)\n",
    "\n",
    "# Unsubscribing after 9:30  \n",
    "if datetime.datetime.now().time() > datetime.time(9,30):\n",
    "    \n",
    "    alice.unsubscribe([alice.get_instrument_by_symbol('MCX', name) for name in symbols],LiveFeedType.MARKET_DATA)\n",
    "    \n",
    "    # Calculating Buy/Sell\n",
    "    for Symbol,Start_price in price_15.items():\n",
    "        if Start_price < min(price_30[Symbol]):\n",
    "            print('Buy ',Symbol)\n",
    "        elif Start_price > max(price_30[Symbol]):\n",
    "            print('Sell ',Symbol)\n",
    "        else:\n",
    "            print('Nothing ',Symbol)"
   ]
  },
  {
   "cell_type": "code",
   "execution_count": null,
   "metadata": {},
   "outputs": [],
   "source": []
  }
 ],
 "metadata": {
  "kernelspec": {
   "display_name": "Python 3",
   "language": "python",
   "name": "python3"
  },
  "language_info": {
   "codemirror_mode": {
    "name": "ipython",
    "version": 3
   },
   "file_extension": ".py",
   "mimetype": "text/x-python",
   "name": "python",
   "nbconvert_exporter": "python",
   "pygments_lexer": "ipython3",
   "version": "3.6.9"
  }
 },
 "nbformat": 4,
 "nbformat_minor": 4
}
