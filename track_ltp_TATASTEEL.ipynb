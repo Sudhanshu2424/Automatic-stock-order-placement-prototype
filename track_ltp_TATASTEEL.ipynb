{
 "cells": [
  {
   "cell_type": "code",
   "execution_count": 11,
   "metadata": {},
   "outputs": [
    {
     "name": "stdout",
     "output_type": "stream",
     "text": [
      "PUNEET TEWANI\n",
      "\n",
      "366.3   1596191378\n"
     ]
    }
   ],
   "source": [
    "import websocket\n",
    "import pandas as pd\n",
    "from time import sleep\n",
    "import json\n",
    "import csv\n",
    "from login import *\n",
    "from alice_blue import *\n",
    "access_token=\"uRxG9AJbmQmTpCdK_TT8a-KTDsUhpgnEXjAv1WN5lFs.9edkFcimX8NL7Rf38sEMw2acSCAwxfbPB35asExq-RU\"\n",
    "alice = AliceBlue(username='username', password='password', access_token=access_token, master_contracts_to_download=['NSE', 'BSE'])\n",
    "\n",
    "\n",
    "print(alice.get_profile()['data']['name']) # get profile name\n",
    "print()\n",
    "\n",
    "# Creating an dictionary for converting it into DataFrame\n",
    "main_dic ={\n",
    "    'exchange_time':[],\n",
    "    'last_price':[]\n",
    "      }\n",
    "\n",
    "\n",
    "#  Start getting live feed via socket\n",
    "socket_opened = False\n",
    "def event_handler_quote_update(message):\n",
    "\n",
    "    # Extracting ltp and exchange_time_stamp and store it in variable\n",
    "    last_price = message['ltp']\n",
    "    exchange_time = message['exchange_time_stamp']\n",
    "\n",
    "    # Appending it to dictionary\n",
    "    main_dic['exchange_time'].append(exchange_time)\n",
    "    main_dic['last_price'].append(last_price)\n",
    "    \n",
    "    print(last_price,' ',exchange_time)\n",
    "'''\n",
    "# Converting dictionary into DataFrame\n",
    "    df = pd.DataFrame(main_dic)\n",
    "    df['exchange_time']  = pd.to_datetime(df['exchange_time'], unit='s')\n",
    "    print(df)\n",
    "'''\n",
    "\n",
    "\n",
    "def open_callback():\n",
    "    global socket_opened\n",
    "    socket_opened = True\n",
    "\n",
    "alice.start_websocket(subscribe_callback=event_handler_quote_update,\n",
    "                      socket_open_callback=open_callback,\n",
    "                      run_in_background=True)\n",
    "\n",
    "while(socket_opened==False):\n",
    "    pass\n",
    "alice.subscribe(alice.get_instrument_by_symbol('NSE', 'TATASTEEL'), LiveFeedType.MARKET_DATA)\n",
    "sleep(10)  # This is not heartbeat message\n"
   ]
  },
  {
   "cell_type": "code",
   "execution_count": null,
   "metadata": {},
   "outputs": [],
   "source": []
  }
 ],
 "metadata": {
  "kernelspec": {
   "display_name": "Python 3",
   "language": "python",
   "name": "python3"
  },
  "language_info": {
   "codemirror_mode": {
    "name": "ipython",
    "version": 3
   },
   "file_extension": ".py",
   "mimetype": "text/x-python",
   "name": "python",
   "nbconvert_exporter": "python",
   "pygments_lexer": "ipython3",
   "version": "3.6.9"
  }
 },
 "nbformat": 4,
 "nbformat_minor": 4
}
